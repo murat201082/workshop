{
 "cells": [
  {
   "cell_type": "markdown",
   "metadata": {
    "id": "DpXjn6Vd9Yw6"
   },
   "source": [
    "1- Write a program to prompt for a score between 0.0 and 1.0. If the score is out of range, print an error. If the score is between 0.0 and 1.0, print a grade using the following table: Score Grade\n",
    "\n",
    "0.9 A\n",
    "\n",
    "0.8 B\n",
    "\n",
    "0.7 C\n",
    "\n",
    "0.6 D\n",
    "\n",
    "0.6 F\n",
    "\n",
    "If the user enters a value out of range, print a suitable error message and exit. For the test, enter a score of 0.85"
   ]
  },
  {
   "cell_type": "code",
   "execution_count": null,
   "metadata": {},
   "outputs": [],
   "source": [
    "s = float(input('Enter a value: '))\n",
    "if 0.0 <= s <= 1.0:\n",
    "    if s >= 0.9:\n",
    "        print('A')\n",
    "    elif s >= 0.8:\n",
    "        print('B')\n",
    "    elif s >= 0.7:\n",
    "        print('C')\n",
    "    elif s >= 0.6:\n",
    "        print('D')\n",
    "    elif s < 0.6:\n",
    "        print('F')\n",
    "else:\n",
    "    print('Error')"
   ]
  },
  {
   "cell_type": "markdown",
   "metadata": {
    "id": "k7W9-BOA9n7O"
   },
   "source": [
    "2- Yazi olarak girilen string ifadenin içindeki harfler tamamen büyük veya tamamen küçük ise True, küçük ve büyük harlerden oluşmuş ise False veren bir fonksiyon yazalım."
   ]
  },
  {
   "cell_type": "code",
   "execution_count": 2,
   "metadata": {},
   "outputs": [
    {
     "name": "stdout",
     "output_type": "stream",
     "text": [
      "False\n"
     ]
    }
   ],
   "source": [
    "def buyuk_kucuk(yazi):\n",
    "    return yazi.upper() == yazi or yazi.lower() == yazi\n",
    "print(buyuk_kucuk('Ali'))"
   ]
  },
  {
   "cell_type": "code",
   "execution_count": 14,
   "metadata": {},
   "outputs": [
    {
     "data": {
      "text/plain": [
       "True"
      ]
     },
     "execution_count": 14,
     "metadata": {},
     "output_type": "execute_result"
    }
   ],
   "source": [
    "buyuk_kucuk('ALI')"
   ]
  },
  {
   "cell_type": "code",
   "execution_count": 1,
   "metadata": {},
   "outputs": [],
   "source": [
    "def fonk(a,b):\n",
    "    print(a*b)"
   ]
  },
  {
   "cell_type": "code",
   "execution_count": 22,
   "metadata": {},
   "outputs": [
    {
     "data": {
      "text/plain": [
       "'muratsertkaya'"
      ]
     },
     "execution_count": 22,
     "metadata": {},
     "output_type": "execute_result"
    }
   ],
   "source": [
    "def fonk(a,b):\n",
    "    return (a+' '+b)\n",
    "a = (input(\"sayı1\"))\n",
    "b = (input('sayı2'))\n",
    "fonk(a,b)\n"
   ]
  },
  {
   "cell_type": "code",
   "execution_count": 26,
   "metadata": {},
   "outputs": [
    {
     "data": {
      "text/plain": [
       "True"
      ]
     },
     "execution_count": 26,
     "metadata": {},
     "output_type": "execute_result"
    }
   ],
   "source": [
    "def buyuk_kuçuk(yazı):\n",
    "    return yazı.upper() == yazı or yazı.lower == yazı\n",
    "yazı = input('yazı')\n",
    "buyuk_kucuk(yazı)"
   ]
  },
  {
   "cell_type": "code",
   "execution_count": 42,
   "metadata": {},
   "outputs": [
    {
     "data": {
      "text/plain": [
       "[1, 2, 4, 5, 10, 20, 25, 50, 100]"
      ]
     },
     "execution_count": 42,
     "metadata": {},
     "output_type": "execute_result"
    }
   ],
   "source": [
    "\n",
    "\n",
    "def kalansız(sayı):\n",
    "    c = []\n",
    "  \n",
    "    for i in range(1,sayı+1):\n",
    "        if sayı % i == 0:\n",
    "            c.append(i)\n",
    "   \n",
    "            \n",
    "    return c\n",
    "  \n",
    "sayı = int(input(\"lütfen bir sayı giriniz\"))\n",
    "kalansız(sayı)\n",
    "      \n",
    "        "
   ]
  },
  {
   "cell_type": "code",
   "execution_count": 50,
   "metadata": {
    "scrolled": true
   },
   "outputs": [
    {
     "data": {
      "text/plain": [
       "[1, 2, 4, 5, 10, 20, 25, 50, 100]"
      ]
     },
     "execution_count": 50,
     "metadata": {},
     "output_type": "execute_result"
    }
   ],
   "source": [
    "def kalansızlist(sayı):\n",
    "    return [i for i in range(1,sayı+1) if sayı % i ==0]\n",
    "kalansızlist(100)\n",
    "\n"
   ]
  },
  {
   "cell_type": "code",
   "execution_count": 52,
   "metadata": {},
   "outputs": [
    {
     "data": {
      "text/plain": [
       "'hyt beni neden yoruyorsun'"
      ]
     },
     "execution_count": 52,
     "metadata": {},
     "output_type": "execute_result"
    }
   ],
   "source": [
    "'hayat beni neden yoruyorsun'.replace('a','')"
   ]
  },
  {
   "cell_type": "code",
   "execution_count": 57,
   "metadata": {},
   "outputs": [
    {
     "data": {
      "text/plain": [
       "\"Lrm psm s smply dmmy txt f th prntng nd typsttng ndstry. Lrm psm hs bn th ndstry's stndrd dmmy txt vr snc th 1500s, whn n nknwn prntr tk  glly f typ nd scrmbld t t mk  typ spcmn bk. t hs srvvd nt nly fv cntrs, bt ls th lp nt lctrnc typsttng, rmnng ssntlly nchngd. t ws pplrsd n th 1960s wth th rls f Ltrst shts cntnng Lrm psm pssgs, nd mr rcntly wth dsktp pblshng sftwr lk lds PgMkr ncldng vrsns f Lrm psm.\""
      ]
     },
     "execution_count": 57,
     "metadata": {},
     "output_type": "execute_result"
    }
   ],
   "source": [
    "def seslilerial(cümle):\n",
    "    sesliler='aeiıouüöAEOUÖÜIİ'\n",
    "    for i in set(cümle):\n",
    "        if i in sesliler:\n",
    "            cümle = cümle.replace(i,'')\n",
    "    return cümle\n",
    "seslilerial(\"Lorem Ipsum is simply dummy text of the printing and typesetting industry. Lorem Ipsum has been the industry's standard dummy text ever since the 1500s, when an unknown printer took a galley of type and scrambled it to make a type specimen book. It has survived not only five centuries, but also the leap into electronic typesetting, remaining essentially unchanged. It was popularised in the 1960s with the release of Letraset sheets containing Lorem Ipsum passages, and more recently with desktop publishing software like Aldus PageMaker including versions of Lorem Ipsum.\")"
   ]
  },
  {
   "cell_type": "code",
   "execution_count": 59,
   "metadata": {},
   "outputs": [
    {
     "data": {
      "text/plain": [
       "\"Lrm psm s smply dmmy txt f th prntng nd typsttng ndstry. Lrm psm hs bn th ndstry's stndrd dmmy txt vr snc th 1500s, whn n nknwn prntr tk  glly f typ nd scrmbld t t mk  typ spcmn bk. t hs srvvd nt nly fv cntrs, bt ls th lp nt lctrnc typsttng, rmnng ssntlly nchngd. t ws pplrsd n th 1960s wth th rls f Ltrst shts cntnng Lrm psm pssgs, nd mr rcntly wth dsktp pblshng sftwr lk lds PgMkr ncldng vrsns f Lrm psm.\""
      ]
     },
     "execution_count": 59,
     "metadata": {},
     "output_type": "execute_result"
    }
   ],
   "source": [
    "def sessizlerial(cümle):\n",
    "    sesliler='aeiıouüöAEOUÖÜIİ'\n",
    "    ekle = ''\n",
    "    for i in cümle:\n",
    "        if i not in sesliler:\n",
    "            ekle += i\n",
    "    return ekle\n",
    "sessizlerial(\"Lorem Ipsum is simply dummy text of the printing and typesetting industry. Lorem Ipsum has been the industry's standard dummy text ever since the 1500s, when an unknown printer took a galley of type and scrambled it to make a type specimen book. It has survived not only five centuries, but also the leap into electronic typesetting, remaining essentially unchanged. It was popularised in the 1960s with the release of Letraset sheets containing Lorem Ipsum passages, and more recently with desktop publishing software like Aldus PageMaker including versions of Lorem Ipsum.\")\n",
    "            "
   ]
  },
  {
   "cell_type": "markdown",
   "metadata": {
    "id": "6PFwqEFO9nxy"
   },
   "source": [
    "3- Sayıyı kalansız bölen sayıları bulan bir fonksiyon yazalım"
   ]
  },
  {
   "cell_type": "code",
   "execution_count": 15,
   "metadata": {},
   "outputs": [],
   "source": [
    "def kalansız_bolunenler(sayı):\n",
    "    a = []\n",
    "    for i in range(1,sayı+1):\n",
    "        if sayı % i == 0:\n",
    "            a.append(i)\n",
    "    return a"
   ]
  },
  {
   "cell_type": "code",
   "execution_count": 16,
   "metadata": {
    "scrolled": true
   },
   "outputs": [
    {
     "data": {
      "text/plain": [
       "[1, 2, 5, 10, 25, 50, 125, 250]"
      ]
     },
     "execution_count": 16,
     "metadata": {},
     "output_type": "execute_result"
    }
   ],
   "source": [
    "kalansız_bolunenler(250)"
   ]
  },
  {
   "cell_type": "code",
   "execution_count": 17,
   "metadata": {},
   "outputs": [],
   "source": [
    "def kalansız_bolunen(sayı):\n",
    "    return [i for i in range(1, sayı+1) if sayı % i == 0]"
   ]
  },
  {
   "cell_type": "code",
   "execution_count": 18,
   "metadata": {},
   "outputs": [
    {
     "data": {
      "text/plain": [
       "[1, 2, 5, 10, 25, 50, 125, 250]"
      ]
     },
     "execution_count": 18,
     "metadata": {},
     "output_type": "execute_result"
    }
   ],
   "source": [
    "kalansız_bolunen(250)"
   ]
  },
  {
   "cell_type": "markdown",
   "metadata": {
    "id": "rgWFi-lZ9noI"
   },
   "source": [
    "4- Cümlenin içindeki sesli harfleri kaldıran bir fonksiyon yazalım.\n",
    "print(sessiz_yap(\"Hayat beni neden yoruyosun?:)\")) --> hyt bn ndn yrysn?:)"
   ]
  },
  {
   "cell_type": "code",
   "execution_count": 19,
   "metadata": {},
   "outputs": [
    {
     "data": {
      "text/plain": [
       "'Hyt beni neden yoruyosun'"
      ]
     },
     "execution_count": 19,
     "metadata": {},
     "output_type": "execute_result"
    }
   ],
   "source": [
    "'Hayat beni neden yoruyosun'.replace('a','')"
   ]
  },
  {
   "cell_type": "code",
   "execution_count": 27,
   "metadata": {},
   "outputs": [],
   "source": [
    "def sessiz_yap(cümle):\n",
    "    sesliler = 'aeıioöuüAEIİOÖUÜ'\n",
    "    for i in set(cümle):\n",
    "        if i in sesliler:\n",
    "            cümle = cümle.replace(i,'')\n",
    "    return cümle"
   ]
  },
  {
   "cell_type": "code",
   "execution_count": 28,
   "metadata": {},
   "outputs": [
    {
     "data": {
      "text/plain": [
       "'Hyt bn ndn yrysn?:)'"
      ]
     },
     "execution_count": 28,
     "metadata": {},
     "output_type": "execute_result"
    }
   ],
   "source": [
    "sessiz_yap('Hayat beni neden yoruyosun?:)')"
   ]
  },
  {
   "cell_type": "code",
   "execution_count": 29,
   "metadata": {},
   "outputs": [],
   "source": [
    "def sessiz_yap1(cümle):\n",
    "    sesliler = 'aeıioöuüAEIİOÖUÜ'\n",
    "    yeni = ''\n",
    "    for i in cümle:\n",
    "        if i not in sesliler:\n",
    "            yeni += i\n",
    "    return yeni"
   ]
  },
  {
   "cell_type": "code",
   "execution_count": 30,
   "metadata": {},
   "outputs": [
    {
     "data": {
      "text/plain": [
       "'Hyt bn ndn yrysn?:)'"
      ]
     },
     "execution_count": 30,
     "metadata": {},
     "output_type": "execute_result"
    }
   ],
   "source": [
    "sessiz_yap1('Hayat beni neden yoruyosun?:)')"
   ]
  },
  {
   "cell_type": "markdown",
   "metadata": {
    "id": "yxwOQSQe9ne1"
   },
   "source": [
    "5- Tarihi yüzyıla çeviren bir fonksiyon yazalım.\n",
    "print(yüzyıl_yap(1738)) --> 18. yüzyıl"
   ]
  },
  {
   "cell_type": "code",
   "execution_count": 63,
   "metadata": {},
   "outputs": [
    {
     "data": {
      "text/plain": [
       "'1. yüzyıl'"
      ]
     },
     "execution_count": 63,
     "metadata": {},
     "output_type": "execute_result"
    }
   ],
   "source": [
    "def yuzyıl_yap(yıl):\n",
    "    return f'{(yıl//100)+1}. yüzyıl'\n",
    "yuzyıl_yap(1)"
   ]
  },
  {
   "cell_type": "markdown",
   "metadata": {
    "id": "Y4qLf-_89nL4"
   },
   "source": [
    "6- Yazının içersindeki kelimelerin ilk ve son karakterleri sabit tutup diğer karakterleri yerine - çizgi koyan fonksiyon yazalım.\n",
    "print(dönüstür(\"hello world\")) --> h---o w---d "
   ]
  },
  {
   "cell_type": "code",
   "execution_count": 66,
   "metadata": {},
   "outputs": [
    {
     "data": {
      "text/plain": [
       "'h------o w---d'"
      ]
     },
     "execution_count": 66,
     "metadata": {},
     "output_type": "execute_result"
    }
   ],
   "source": [
    "def dönüştür(yazı):\n",
    "    liste = yazı.split()\n",
    "    yeni = ''\n",
    "    for i in liste:\n",
    "        for k in range(len(i)):\n",
    "            if k == 0:\n",
    "                yeni += i[k]\n",
    "            elif k == len(i)-1:\n",
    "                yeni += i[k] + ' '\n",
    "            else:\n",
    "                yeni += '-'\n",
    "    return yeni.strip()\n",
    "dönüştür('helloooo world')"
   ]
  },
  {
   "cell_type": "code",
   "execution_count": 86,
   "metadata": {},
   "outputs": [
    {
     "name": "stdout",
     "output_type": "stream",
     "text": [
      "H---o w---d \n"
     ]
    }
   ],
   "source": [
    "kelime = \"Hello world\" # input(\"Lütfen bir cümle girin : \")\n",
    "kelime = list(kelime.split())\n",
    "\n",
    "n_kelime = \"\"\n",
    "for i in kelime:\n",
    "  n_kelime += i[0]+(len(i)-2)*\"-\"+i[-1]+\" \"\n",
    "print(n_kelime)"
   ]
  },
  {
   "cell_type": "code",
   "execution_count": 87,
   "metadata": {},
   "outputs": [
    {
     "data": {
      "text/plain": [
       "'My n--e is Y---f'"
      ]
     },
     "execution_count": 87,
     "metadata": {},
     "output_type": "execute_result"
    }
   ],
   "source": [
    "def conver(sentence):\n",
    "  listem=sentence.split()\n",
    "  newss = \"\"\n",
    "  for i in listem:\n",
    "    for k in range(len(i)):\n",
    "      if k ==0:\n",
    "        newss += i[k]\n",
    "      elif k == len(i)-1:\n",
    "        newss += i[k] + \" \"\n",
    "      else:\n",
    "        newss +=\"-\"\n",
    "  return newss.strip()\n",
    "conver(\"My name is Yusuf\")"
   ]
  },
  {
   "cell_type": "markdown",
   "metadata": {
    "id": "mEPc7d0Z9nAI"
   },
   "source": [
    "7- Her girdi listesinde iki tanesi hariç her rakam en az bir kere tekrarlıyor.iki benzersiz sayıyı döndüren bir fonksiyon yazalım.\n",
    "benzersizi_bul([2,2,3,11,3,6,5]) --> [6, 5]  # 11 de 2 tane 1 var"
   ]
  },
  {
   "cell_type": "code",
   "execution_count": 92,
   "metadata": {},
   "outputs": [
    {
     "data": {
      "text/plain": [
       "[57]"
      ]
     },
     "execution_count": 92,
     "metadata": {},
     "output_type": "execute_result"
    }
   ],
   "source": [
    "def benzersizi_bul(a):\n",
    "    b = ''\n",
    "    n = []\n",
    "    for i in a:\n",
    "        b += str(i)\n",
    "    for i in set(b):\n",
    "        for j in a:\n",
    "            if b.count(i)==1 and i in str(j):\n",
    "                n.append(j)\n",
    "    return list(set(n))\n",
    "benzersizi_bul([2,2,3,11,3,66,57])"
   ]
  },
  {
   "cell_type": "code",
   "execution_count": 106,
   "metadata": {},
   "outputs": [
    {
     "name": "stdout",
     "output_type": "stream",
     "text": [
      "2231136657\n",
      "<class 'str'>\n",
      "237561"
     ]
    }
   ],
   "source": [
    "\n",
    "a = [2,2,3,11,3,66,57]\n",
    "b= (map(str,a))\n",
    "c = ''.join(b)\n",
    "print(c)\n",
    "print(type(c))\n",
    "for i in set(c):\n",
    "    print(i, end='')\n"
   ]
  },
  {
   "cell_type": "code",
   "execution_count": 47,
   "metadata": {},
   "outputs": [
    {
     "data": {
      "text/plain": [
       "['2', '2', '3', '11', '3', '66', '57']"
      ]
     },
     "execution_count": 47,
     "metadata": {},
     "output_type": "execute_result"
    }
   ],
   "source": [
    "c = list(map(str, a))\n",
    "c"
   ]
  },
  {
   "cell_type": "code",
   "execution_count": 48,
   "metadata": {},
   "outputs": [
    {
     "data": {
      "text/plain": [
       "'2231136657'"
      ]
     },
     "execution_count": 48,
     "metadata": {},
     "output_type": "execute_result"
    }
   ],
   "source": [
    "''.join(c)"
   ]
  },
  {
   "cell_type": "code",
   "execution_count": 49,
   "metadata": {},
   "outputs": [],
   "source": [
    "def benzersizi_bul2(a):\n",
    "    b = ''.join(map(str,a))\n",
    "    return list({j for i in set(b) for j in a if b.count(i) == 1 and i in str(j)})\n",
    "    "
   ]
  },
  {
   "cell_type": "code",
   "execution_count": 50,
   "metadata": {},
   "outputs": [
    {
     "data": {
      "text/plain": [
       "[57]"
      ]
     },
     "execution_count": 50,
     "metadata": {},
     "output_type": "execute_result"
    }
   ],
   "source": [
    "benzersizi_bul2([2,2,3,11,3,66,57])"
   ]
  },
  {
   "cell_type": "markdown",
   "metadata": {
    "id": "GMgm2Jhu9mQj"
   },
   "source": [
    "8- Bir stringi(kelime) alan ve birbirini izleyen aynı harfleri çıkaran bir fonksiyon oluşturun.\n",
    "print(cıkar(\"mmmeeerrhhhaaabbbaaa\")) --> merhaba"
   ]
  },
  {
   "cell_type": "code",
   "execution_count": 51,
   "metadata": {},
   "outputs": [],
   "source": [
    "def cıkar(kelime):\n",
    "    yeni = ''\n",
    "    for i in range(len(kelime)-1):\n",
    "        if kelime[i] != kelime[i+1]:\n",
    "            yeni += kelime[i]\n",
    "    yeni +=kelime[-1]\n",
    "    return yeni"
   ]
  },
  {
   "cell_type": "code",
   "execution_count": 53,
   "metadata": {},
   "outputs": [
    {
     "data": {
      "text/plain": [
       "'merhaba'"
      ]
     },
     "execution_count": 53,
     "metadata": {},
     "output_type": "execute_result"
    }
   ],
   "source": [
    "cıkar('mmmmmeeerrrrhhhaabaaaaa')"
   ]
  },
  {
   "cell_type": "markdown",
   "metadata": {
    "id": "3oD9kK_q9mBH"
   },
   "source": [
    "9- Belirli aralıkta(sınırlar dahil) verilen rakamın kaç kere olduğunu sayan bir fonksiyon yazalım. print(kac_tane(50,55,5)) --> 7"
   ]
  },
  {
   "cell_type": "code",
   "execution_count": 56,
   "metadata": {},
   "outputs": [],
   "source": [
    "def kac_tane(baslangıc, bitis, sayı):\n",
    "    sonuc = 0\n",
    "    for i in range(baslangıc, bitis+1):\n",
    "        sonuc += str(i).count(str(sayı))\n",
    "    return sonuc\n",
    "        "
   ]
  },
  {
   "cell_type": "code",
   "execution_count": 57,
   "metadata": {},
   "outputs": [
    {
     "name": "stdout",
     "output_type": "stream",
     "text": [
      "7\n"
     ]
    }
   ],
   "source": [
    "print(kac_tane(50,55,5))"
   ]
  },
  {
   "cell_type": "markdown",
   "metadata": {
    "id": "n1Tuy6szEGR8"
   },
   "source": [
    "10- Yüksekliği verilen yılbaşı ağacını oluşturan bir fonksiyon yazalım. agac(7)\n",
    "\n",
    "\n",
    "```\n",
    "      #      \n",
    "     ###     \n",
    "    #####    \n",
    "   #######   \n",
    "  #########  \n",
    " ########### \n",
    "############# \n",
    "```\n",
    "\n"
   ]
  },
  {
   "cell_type": "code",
   "execution_count": 71,
   "metadata": {},
   "outputs": [
    {
     "name": "stdout",
     "output_type": "stream",
     "text": [
      "      #      \n",
      "     ###     \n",
      "    #####    \n",
      "   #######   \n",
      "  #########  \n",
      " ########### \n",
      "#############\n"
     ]
    }
   ],
   "source": [
    "def agac3(n):\n",
    "    for i in range(1,n+1):\n",
    "        print(((2*i-1)*'#').center(2*n-1))\n",
    "agac3(7)"
   ]
  },
  {
   "cell_type": "code",
   "execution_count": 58,
   "metadata": {},
   "outputs": [],
   "source": [
    "def agac(n):\n",
    "    for i in range(1,2*n,2):\n",
    "        print((i*'#').center(2*n-1))"
   ]
  },
  {
   "cell_type": "code",
   "execution_count": 60,
   "metadata": {
    "scrolled": true
   },
   "outputs": [
    {
     "name": "stdout",
     "output_type": "stream",
     "text": [
      "        #        \n",
      "       ###       \n",
      "      #####      \n",
      "     #######     \n",
      "    #########    \n",
      "   ###########   \n",
      "  #############  \n",
      " ############### \n",
      "#################\n"
     ]
    }
   ],
   "source": [
    "agac(9)"
   ]
  },
  {
   "cell_type": "code",
   "execution_count": 65,
   "metadata": {},
   "outputs": [],
   "source": [
    "def agac1(n):\n",
    "    i = 1\n",
    "    while i <= 2*n-1:\n",
    "        print((i*'#').center(2*n-1))\n",
    "        i += 2"
   ]
  },
  {
   "cell_type": "code",
   "execution_count": 66,
   "metadata": {},
   "outputs": [
    {
     "name": "stdout",
     "output_type": "stream",
     "text": [
      "      #      \n",
      "     ###     \n",
      "    #####    \n",
      "   #######   \n",
      "  #########  \n",
      " ########### \n",
      "#############\n"
     ]
    }
   ],
   "source": [
    "agac1(7)"
   ]
  }
 ],
 "metadata": {
  "colab": {
   "name": "group_2.ipynb",
   "provenance": []
  },
  "kernelspec": {
   "display_name": "Python 3",
   "language": "python",
   "name": "python3"
  },
  "language_info": {
   "codemirror_mode": {
    "name": "ipython",
    "version": 3
   },
   "file_extension": ".py",
   "mimetype": "text/x-python",
   "name": "python",
   "nbconvert_exporter": "python",
   "pygments_lexer": "ipython3",
   "version": "3.8.10"
  }
 },
 "nbformat": 4,
 "nbformat_minor": 1
}
