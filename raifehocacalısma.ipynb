{
 "cells": [
  {
   "cell_type": "code",
   "execution_count": 3,
   "metadata": {},
   "outputs": [
    {
     "data": {
      "text/plain": [
       "'3333333333333333333333:20:20 '"
      ]
     },
     "execution_count": 3,
     "metadata": {},
     "output_type": "execute_result"
    }
   ],
   "source": [
    "def make_readable(s):\n",
    "    hh = (s//3600)\n",
    "    mm = (s//60) % 60\n",
    "    ss = s % 60\n",
    "    return f\"{hh:02d}:{mm:02d}:{mm:02d} \"\n",
    "make_readable(12000000000000000000000000)"
   ]
  },
  {
   "cell_type": "code",
   "execution_count": 7,
   "metadata": {},
   "outputs": [
    {
     "data": {
      "text/plain": [
       "False"
      ]
     },
     "execution_count": 7,
     "metadata": {},
     "output_type": "execute_result"
    }
   ],
   "source": [
    "def scramble(s1,s2):\n",
    "    return all ([True if s2.count(i) <= s1.count(i) else False for i in set(s2)])\n",
    "scramble(\"rkqodlw\",\"world\")"
   ]
  },
  {
   "cell_type": "code",
   "execution_count": 9,
   "metadata": {},
   "outputs": [
    {
     "data": {
      "text/plain": [
       "'igPigay atinLatinay sisay oolcoolay'"
      ]
     },
     "execution_count": 9,
     "metadata": {},
     "output_type": "execute_result"
    }
   ],
   "source": [
    "def change(s):\n",
    "    s = s.split()\n",
    "    y = ''\n",
    "    for i in s:\n",
    "        if i.isalnum():\n",
    "            y += i[1:] + i[0:] + 'ay' + ' '\n",
    "        else :\n",
    "            y += i + ' '\n",
    "    return y.strip()\n",
    "change(\"Pig Latin is cool\")        "
   ]
  },
  {
   "cell_type": "code",
   "execution_count": 12,
   "metadata": {},
   "outputs": [
    {
     "data": {
      "text/plain": [
       "['aabb', 'bbaa']"
      ]
     },
     "execution_count": 12,
     "metadata": {},
     "output_type": "execute_result"
    }
   ],
   "source": [
    "def anagram(word, words):\n",
    "    return [i for i in words if sorted(word) == sorted(i)]\n",
    "anagram(\"abba\", [\"aabb\", \"abcd\", \"bbaa\", \"dada\"])"
   ]
  },
  {
   "cell_type": "code",
   "execution_count": null,
   "metadata": {},
   "outputs": [],
   "source": []
  }
 ],
 "metadata": {
  "interpreter": {
   "hash": "916dbcbb3f70747c44a77c7bcd40155683ae19c65e1c03b4aa3499c5328201f1"
  },
  "kernelspec": {
   "display_name": "Python 3.8.10 64-bit",
   "language": "python",
   "name": "python3"
  },
  "language_info": {
   "codemirror_mode": {
    "name": "ipython",
    "version": 3
   },
   "file_extension": ".py",
   "mimetype": "text/x-python",
   "name": "python",
   "nbconvert_exporter": "python",
   "pygments_lexer": "ipython3",
   "version": "3.8.10"
  },
  "orig_nbformat": 4
 },
 "nbformat": 4,
 "nbformat_minor": 2
}
