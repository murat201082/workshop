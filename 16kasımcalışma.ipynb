{
 "cells": [
  {
   "cell_type": "code",
   "execution_count": 39,
   "metadata": {},
   "outputs": [
    {
     "name": "stdout",
     "output_type": "stream",
     "text": [
      "79\n"
     ]
    }
   ],
   "source": [
    "sayılar = sum(map(int,input(\"lütfen sayı giriniz\").split()))\n",
    "\n",
    "print(sayılar)\n"
   ]
  },
  {
   "cell_type": "code",
   "execution_count": 41,
   "metadata": {},
   "outputs": [
    {
     "name": "stdout",
     "output_type": "stream",
     "text": [
      "ikizkenar üçgen\n"
     ]
    }
   ],
   "source": [
    "a,b,c = list(map(int,input(\"lütfen sayı giriniz\").split()))\n",
    "if a == b and b == c and a == c :\n",
    "    print(\"eşkenar üçgen\")\n",
    "elif a == b or b == c or a == c :\n",
    "    print(\"ikizkenar üçgen\")\n",
    "else :\n",
    "    print(\"çeşit kenar üçgen\")"
   ]
  },
  {
   "cell_type": "code",
   "execution_count": 20,
   "metadata": {},
   "outputs": [
    {
     "name": "stdout",
     "output_type": "stream",
     "text": [
      "  *\n",
      " ***\n",
      "*****\n"
     ]
    }
   ],
   "source": [
    "satır_sayısı = int(input(\"lütfen satır sayısını giriniz\"))\n",
    "for i in range(1,satır_sayısı +1) :\n",
    "    print(\" \"*( satır_sayısı-i)+\"*\" *(2*i - 1))"
   ]
  }
 ],
 "metadata": {
  "interpreter": {
   "hash": "916dbcbb3f70747c44a77c7bcd40155683ae19c65e1c03b4aa3499c5328201f1"
  },
  "kernelspec": {
   "display_name": "Python 3.8.10 64-bit",
   "language": "python",
   "name": "python3"
  },
  "language_info": {
   "codemirror_mode": {
    "name": "ipython",
    "version": 3
   },
   "file_extension": ".py",
   "mimetype": "text/x-python",
   "name": "python",
   "nbconvert_exporter": "python",
   "pygments_lexer": "ipython3",
   "version": "3.8.10"
  },
  "orig_nbformat": 4
 },
 "nbformat": 4,
 "nbformat_minor": 2
}
