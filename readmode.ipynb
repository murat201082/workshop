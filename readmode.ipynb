{
 "cells": [
  {
   "cell_type": "code",
   "execution_count": 6,
   "metadata": {},
   "outputs": [
    {
     "name": "stdout",
     "output_type": "stream",
     "text": [
      "orca is a kind of Dolphin.\n",
      "Blue Whale is the largest animal known on earth.\n",
      "Sharks are the sister group to the Rays (batoids).\n",
      "The Tuna Fish can weigh up to 260 kg.\n",
      "Squid and Octopus are in the same class.\n",
      "\n"
     ]
    }
   ],
   "source": [
    "sea = open(\"fishes.txt\", \"r\")\n",
    "print(sea.read())\n"
   ]
  },
  {
   "cell_type": "code",
   "execution_count": 17,
   "metadata": {},
   "outputs": [
    {
     "name": "stdout",
     "output_type": "stream",
     "text": [
      "orca is a kind of Dolphin.\n",
      "Blue W\n",
      "\n",
      "hale is the largest anima\n",
      "orca is a kind of Dolphin.\n",
      "Blue W\n",
      "33\n"
     ]
    }
   ],
   "source": [
    "\n",
    "print(sea.read(33))\n",
    "print()\n",
    "print(sea.read(25))\n",
    "sea.seek(0)  # changes the stream (cursor) position to zero\n",
    "print(sea.read(33))\n",
    "print(sea.tell())  # returns the current stream (cursor) position\n",
    "\n",
    "sea.close()"
   ]
  },
  {
   "cell_type": "code",
   "execution_count": 20,
   "metadata": {},
   "outputs": [
    {
     "name": "stdout",
     "output_type": "stream",
     "text": [
      "orca is a kind of Dolphin.\n",
      "\n",
      "Blue Whale is the largest animal known on earth.\n",
      "\n",
      "Sharks are the sister group to the Rays (batoids).\n",
      "\n",
      "The Tuna Fish\n"
     ]
    }
   ],
   "source": [
    "sea = open(\"fishes.txt\", \"r\")\n",
    "print(sea.readline())\n",
    "print(sea.readline())\n",
    "print(sea.readline())\n",
    "print(sea.readline(13))"
   ]
  },
  {
   "cell_type": "code",
   "execution_count": 23,
   "metadata": {},
   "outputs": [
    {
     "ename": "SyntaxError",
     "evalue": "unexpected character after line continuation character (1392647873.py, line 2)",
     "output_type": "error",
     "traceback": [
      "\u001b[0;36m  File \u001b[0;32m\"/tmp/ipykernel_7403/1392647873.py\"\u001b[0;36m, line \u001b[0;32m2\u001b[0m\n\u001b[0;31m    print(sea.readlines(\\ng))\u001b[0m\n\u001b[0m                             ^\u001b[0m\n\u001b[0;31mSyntaxError\u001b[0m\u001b[0;31m:\u001b[0m unexpected character after line continuation character\n"
     ]
    }
   ],
   "source": [
    "sea = open(\"fishes.txt\", \"r\")\n",
    "print(sea.readlines())"
   ]
  },
  {
   "cell_type": "code",
   "execution_count": 24,
   "metadata": {},
   "outputs": [
    {
     "name": "stdout",
     "output_type": "stream",
     "text": [
      "orca is a kind of Dolphin.\n",
      "\n",
      "['Blue Whale is the largest animal known on earth.\\n', 'Sharks are the sister group to the Rays (batoids).\\n', 'The Tuna Fish can weigh up to 260 kg.\\n', 'Squid and Octopus are in the same class.\\n']\n"
     ]
    }
   ],
   "source": [
    "sea = open(\"fishes.txt\", 'r')   \n",
    "\n",
    "print(sea.readline())  # first line\n",
    "print(sea.readlines())  # the rest of the lines\n",
    "\n",
    "sea.close()"
   ]
  },
  {
   "cell_type": "code",
   "execution_count": 25,
   "metadata": {},
   "outputs": [
    {
     "name": "stdout",
     "output_type": "stream",
     "text": [
      "orca is a kind of Dolphin.\n",
      "\n",
      "Blue Whale is the largest animal known on earth.\n",
      "\n",
      "Sharks are the sister group to the Rays (batoids).\n",
      "\n",
      "The Tuna Fish can weigh up to 260 kg.\n",
      "\n",
      "Squid and Octopus are in the same class.\n",
      "\n"
     ]
    }
   ],
   "source": [
    "sea = open(\"fishes.txt\", 'r')   \n",
    "\n",
    "for line in sea:\n",
    "    print(line)\n",
    "\n",
    "sea.close()"
   ]
  },
  {
   "cell_type": "code",
   "execution_count": 26,
   "metadata": {},
   "outputs": [
    {
     "name": "stdout",
     "output_type": "stream",
     "text": [
      "orca is a kind of Dolphin.\n",
      "\n",
      "Blue Whale is the largest animal known on earth.\n",
      "\n",
      "Sharks are the sister group to the Rays (batoids).\n",
      "\n",
      "The Tuna Fish can weigh up to 260 kg.\n",
      "\n",
      "Squid and Octopus are in the same class.\n",
      "\n"
     ]
    }
   ],
   "source": [
    "sea = open(\"fishes.txt\", 'r')   \n",
    "\n",
    "for line in sea.readlines():\n",
    "    print(line)\n",
    "\n",
    "sea.close()"
   ]
  },
  {
   "cell_type": "code",
   "execution_count": 29,
   "metadata": {},
   "outputs": [
    {
     "name": "stdout",
     "output_type": "stream",
     "text": [
      "orca is a kind of Dolphin.\n",
      "\n",
      "Blue Whale is the largest animal known on earth.\n",
      "\n",
      "Sharks are the sister group to the Rays (batoids).\n",
      "\n",
      "The Tuna Fish can weigh up to 260 kg.\n",
      "\n",
      "Squid and Octopus are in the same class.\n",
      "\n"
     ]
    }
   ],
   "source": [
    "with open(\"fishes.txt\", \"r\") as sea:\n",
    "    for line in sea:\n",
    "        print(line)  # needs indented code block"
   ]
  },
  {
   "cell_type": "code",
   "execution_count": 4,
   "metadata": {},
   "outputs": [
    {
     "name": "stdout",
     "output_type": "stream",
     "text": [
      "x is 50\n",
      "Changed local x to 2\n",
      "x is now 50\n"
     ]
    }
   ],
   "source": [
    "x = 50 \n",
    "def func(x): \n",
    "    print('x is', x)     \n",
    "    x = 2 \n",
    "    print('Changed local x to', x) \n",
    "func(x) \n",
    "print('x is now', x) "
   ]
  },
  {
   "cell_type": "code",
   "execution_count": 5,
   "metadata": {},
   "outputs": [
    {
     "name": "stdout",
     "output_type": "stream",
     "text": [
      "3   9\n"
     ]
    }
   ],
   "source": [
    "def function1(var1=5, var2=7):     \n",
    "    var2=9     \n",
    "    var1=3 \n",
    "    print  (var1,  \" \", var2) \n",
    "function1(10,12) "
   ]
  }
 ],
 "metadata": {
  "interpreter": {
   "hash": "916dbcbb3f70747c44a77c7bcd40155683ae19c65e1c03b4aa3499c5328201f1"
  },
  "kernelspec": {
   "display_name": "Python 3.8.10 64-bit",
   "language": "python",
   "name": "python3"
  },
  "language_info": {
   "codemirror_mode": {
    "name": "ipython",
    "version": 3
   },
   "file_extension": ".py",
   "mimetype": "text/x-python",
   "name": "python",
   "nbconvert_exporter": "python",
   "pygments_lexer": "ipython3",
   "version": "3.8.10"
  },
  "orig_nbformat": 4
 },
 "nbformat": 4,
 "nbformat_minor": 2
}
