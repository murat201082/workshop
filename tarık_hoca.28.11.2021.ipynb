{
 "cells": [
  {
   "cell_type": "code",
   "execution_count": 3,
   "metadata": {},
   "outputs": [
    {
     "name": "stdout",
     "output_type": "stream",
     "text": [
      "27\n"
     ]
    }
   ],
   "source": [
    "def multiply(argument1, argument2):\n",
    "    return (argument1 ** argument2)\n",
    "print(multiply(3,3))"
   ]
  },
  {
   "cell_type": "code",
   "execution_count": 5,
   "metadata": {},
   "outputs": [
    {
     "name": "stdout",
     "output_type": "stream",
     "text": [
      "14\n"
     ]
    }
   ],
   "source": [
    "def meral(a,b):\n",
    "    return(a + b)\n",
    "print(meral(3,4) + 7)"
   ]
  },
  {
   "cell_type": "code",
   "execution_count": 7,
   "metadata": {},
   "outputs": [
    {
     "name": "stdout",
     "output_type": "stream",
     "text": [
      "merhaba\n",
      "<class 'NoneType'>\n"
     ]
    }
   ],
   "source": [
    "degisken = print(\"merhaba\")\n",
    "print(type(degisken))"
   ]
  },
  {
   "cell_type": "code",
   "execution_count": 9,
   "metadata": {},
   "outputs": [
    {
     "name": "stdout",
     "output_type": "stream",
     "text": [
      "24\n",
      "63\n",
      "<class 'NoneType'>\n"
     ]
    }
   ],
   "source": [
    "def carpma(argumentt, artgument22):\n",
    "    print(argumentt * artgument22)\n",
    "carpma(4,6)\n",
    "print(type(carpma(7,9)))"
   ]
  },
  {
   "cell_type": "code",
   "execution_count": 11,
   "metadata": {},
   "outputs": [
    {
     "name": "stdout",
     "output_type": "stream",
     "text": [
      "2021-11-28 21:34:40.055239\n"
     ]
    }
   ],
   "source": [
    "import datetime\n",
    "print(datetime.datetime.now())"
   ]
  },
  {
   "cell_type": "code",
   "execution_count": 16,
   "metadata": {},
   "outputs": [
    {
     "name": "stdout",
     "output_type": "stream",
     "text": [
      "<built-in method now of type object at 0x92bb80>\n"
     ]
    }
   ],
   "source": [
    "from datetime import datetime\n",
    "def time():\n",
    "    print(datetime.now)\n",
    "time()"
   ]
  },
  {
   "cell_type": "code",
   "execution_count": 20,
   "metadata": {},
   "outputs": [
    {
     "name": "stdout",
     "output_type": "stream",
     "text": [
      "a v\n"
     ]
    }
   ],
   "source": [
    "def kısaltma(name):\n",
    "    kısa = name[0]\n",
    "    return(kısa)\n",
    "isim = input(\"lütfen isim giriniz\")\n",
    "ismkıs = kısaltma(isim)\n",
    "\n",
    "soyisim = input(\"lütfen soyisim griniz\")\n",
    "soykıs = kısaltma(soyisim)\n",
    "print( ismkıs, soykıs)"
   ]
  },
  {
   "cell_type": "code",
   "execution_count": 31,
   "metadata": {},
   "outputs": [
    {
     "data": {
      "text/plain": [
       "'av'"
      ]
     },
     "execution_count": 31,
     "metadata": {},
     "output_type": "execute_result"
    }
   ],
   "source": [
    "def ahmet():\n",
    "   \n",
    "    girdi = input(\"lütfen isim giriniz\")\n",
    "    girdi = girdi[0]\n",
    "    girdi2 = input(\"lütfen soyisim giriniz\")\n",
    "    girdi2 = girdi2[0]\n",
    "    return (girdi + girdi2)\n",
    "ahmet()"
   ]
  },
  {
   "cell_type": "code",
   "execution_count": 34,
   "metadata": {},
   "outputs": [
    {
     "name": "stdout",
     "output_type": "stream",
     "text": [
      "['ben', 'seni']\n"
     ]
    }
   ],
   "source": [
    "girdi = input(\"lütfen adı girin\").split()\n",
    "print(girdi)"
   ]
  },
  {
   "cell_type": "code",
   "execution_count": 37,
   "metadata": {},
   "outputs": [
    {
     "name": "stdout",
     "output_type": "stream",
     "text": [
      "['\"1\"', '\"3\"', '\"3\"']\n"
     ]
    }
   ],
   "source": [
    "girdi = list(map(int,input(\"lütfen bir sayı giriniz\").split()))\n",
    "print(girdi)"
   ]
  }
 ],
 "metadata": {
  "interpreter": {
   "hash": "916dbcbb3f70747c44a77c7bcd40155683ae19c65e1c03b4aa3499c5328201f1"
  },
  "kernelspec": {
   "display_name": "Python 3.8.10 64-bit",
   "language": "python",
   "name": "python3"
  },
  "language_info": {
   "codemirror_mode": {
    "name": "ipython",
    "version": 3
   },
   "file_extension": ".py",
   "mimetype": "text/x-python",
   "name": "python",
   "nbconvert_exporter": "python",
   "pygments_lexer": "ipython3",
   "version": "3.8.10"
  },
  "orig_nbformat": 4
 },
 "nbformat": 4,
 "nbformat_minor": 2
}
