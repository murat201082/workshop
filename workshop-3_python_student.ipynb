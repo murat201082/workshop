{
 "cells": [
  {
   "cell_type": "markdown",
   "metadata": {},
   "source": [
    "<center><img src=\"https://github.com/aaron-clarusway/fullstack/blob/master/itf-logo.png?raw=true\"  alt=\"alt text\" width=\"200\"/></center>\n",
    "<br>\n",
    "<h1><p style=\"text-align: center; color:darkblue\">Python Basic</p><h1>\n",
    "<center><h1>Workshop - 3</h1></center>\n",
    "<p><img align=\"right\"\n",
    "  src=\"https://secure.meetupstatic.com/photos/event/3/1/b/9/600_488352729.jpeg\"  width=\"15px\"></p>\n",
    "<br>\n",
    "\n",
    "\n",
    "# Subject: Collections - Control Flow Statements"
   ]
  },
  {
   "cell_type": "markdown",
   "metadata": {},
   "source": [
    "## Coding Challenge-1 : Find the Largest Number\n",
    "\n",
    "Purpose of the this coding challenge is to solve a simple sorting problem in Python.\n",
    "\n",
    "### Learning Outcomes\n",
    "\n",
    "At the end of the this coding challenge, students will be able to;\n",
    "\n",
    "- get a basic understanding of sorting algorithms.\n",
    "- demonstrate their knowledge of lists in python\n",
    "- implement loops to solve the problems in python\n",
    "- get a better understanding of computational thinking concepts\n",
    "\n",
    "### Problem Statement\n",
    "  \n",
    "- Write a python code that finds the largest number among the ``n`` numbers given by the user as input.\n",
    "\n",
    "- First, take `n` from the user, then take `n` numbers one by one and select-print the largest one.\n",
    "\n",
    "- It is forbidden to use ``max()`` function.  \n",
    "\n",
    "- Indicate which computational thinking concepts have you used.\n",
    "\n",
    "- Example for user inputs and respective outputs\n",
    "\n",
    "```text\n",
    "Input                Output\n",
    "---------------:     -------------------------:\n",
    "n = 5, 1 2 3 4 5     The largest number is:  5\n",
    "n = 3, 67 85 19      The largest number is:  85\n",
    "```"
   ]
  },
  {
   "cell_type": "markdown",
   "metadata": {},
   "source": [
    "### Solution :"
   ]
  },
  {
   "cell_type": "code",
   "execution_count": 15,
   "metadata": {},
   "outputs": [
    {
     "name": "stdout",
     "output_type": "stream",
     "text": [
      "7\n"
     ]
    }
   ],
   "source": [
    "n = int(input(\"lütfen beş adet sayı giriniz :\"))\n",
    "n1 = int(input(\"lütfen beş adet sayı giriniz :\"))\n",
    "n2 = int(input(\"lütfen beş adet sayı giriniz :\"))\n",
    "n3 = int(input(\"lütfen beş adet sayı giriniz :\"))\n",
    "n4 = int(input(\"lütfen beş adet sayı giriniz :\"))\n",
    "numbers = [n, n1, n2, n3, n4]\n",
    "numbers.sort()\n",
    "# c = max(numbers)\n",
    "# print(c)\n",
    "\n",
    "print(numbers[-1])\n"
   ]
  },
  {
   "cell_type": "code",
   "execution_count": 3,
   "metadata": {},
   "outputs": [
    {
     "ename": "SyntaxError",
     "evalue": "invalid syntax (1569132734.py, line 2)",
     "output_type": "error",
     "traceback": [
      "\u001b[0;36m  File \u001b[0;32m\"/tmp/ipykernel_2974/1569132734.py\"\u001b[0;36m, line \u001b[0;32m2\u001b[0m\n\u001b[0;31m    for numbers in numbers.append(int(input('lütfen 5 adet sayı giriniz')))\u001b[0m\n\u001b[0m                                                                           ^\u001b[0m\n\u001b[0;31mSyntaxError\u001b[0m\u001b[0;31m:\u001b[0m invalid syntax\n"
     ]
    }
   ],
   "source": [
    "numbers = []\n",
    "for numbers in numbers.append(int(input('lütfen 5 adet sayı giriniz')))\n",
    "\n",
    "print(numbers)"
   ]
  },
  {
   "cell_type": "markdown",
   "metadata": {},
   "source": [
    "## Coding Challenge-2 : Group Anagrams\n",
    "\n",
    "Purpose of the this coding challenge is to solve a grouping algorithm in Python.\n",
    "\n",
    "### Learning Outcomes\n",
    "\n",
    "At the end of the this coding challenge, students will be able to;\n",
    "\n",
    "- get a basic understanding of grouping algorithms.\n",
    "- demonstrate their knowledge of lists, dicts in python\n",
    "- implement loops to solve the problems in python\n",
    "- get a better understanding of computational thinking concepts\n",
    "\n",
    "### Problem Statement\n",
    "  \n",
    "- Given a list of strings, group anagrams together.\n",
    "\n",
    "- Example:\n",
    "\n",
    "**Input:**\n",
    "```\n",
    "[\"eat\", \"tea\", \"tan\", \"ate\", \"nat\", \"bat\"],\n",
    "Output:\n",
    "[\n",
    "  [\"ate\",\"eat\",\"tea\"],\n",
    "  [\"nat\",\"tan\"],\n",
    "  [\"bat\"]\n",
    "]\n",
    "```\n",
    "Note:\n",
    "All inputs will be in lowercase.\n",
    "The order of your output does not matter."
   ]
  },
  {
   "cell_type": "markdown",
   "metadata": {},
   "source": [
    "### Solution :"
   ]
  },
  {
   "cell_type": "code",
   "execution_count": 35,
   "metadata": {},
   "outputs": [
    {
     "name": "stdout",
     "output_type": "stream",
     "text": [
      "['ate, eat, tea']\n",
      "['nat, tan']\n",
      "['bat']\n"
     ]
    }
   ],
   "source": [
    "list = [\"eat\", \"tea\", \"tan\", \"ate\", \"nat\", \"bat\"]\n",
    "list1 = [list[3] +\", \"+ list[0] + \", \" + list[1]]\n",
    "list2 = [list[-2] +\", \"+ list[2]]\n",
    "list3 = [list[-1]]\n",
    "print(list1)\n",
    "print(list2)\n",
    "print(list3)\n",
    "# print([list[3] +\", \"+ list[0] + \", \" + list[1]])\n",
    "# print([list[-2] +\", \"+ list[2]])\n",
    "# print([list[-1]])\n",
    "\n"
   ]
  },
  {
   "cell_type": "code",
   "execution_count": null,
   "metadata": {},
   "outputs": [],
   "source": []
  },
  {
   "cell_type": "markdown",
   "metadata": {},
   "source": [
    "## Coding Challenge - 3: \n",
    "\n",
    "## *** This is an optional question - You don't have to solve this ***\n",
    "\n",
    "Calculating the Amount of Water to be Trapped on Terrain\n",
    "\n",
    "The purpose of this coding challenge is to write a program that calculates the amount of water that can be contained within the generated holes.\n",
    "\n",
    "### Learning Outcomes\n",
    "\n",
    "At the end of this coding challenge, students will be able to;\n",
    "\n",
    "- analyze a problem, identify, and apply programming knowledge for appropriate solution.\n",
    "\n",
    "- design, implement `while` loops effectively in Python to solve the given problem.\n",
    "\n",
    "- control loops effectively by using `if` and `control` statements.\n",
    "\n",
    "- demonstrate their knowledge of algorithmic design principles by using solving the problem effectively.\n",
    "\n",
    "### Problem Statement\n",
    "\n",
    "- Given an array of non-negative integers representing an elevation map as shown below where the width of each bar is 1, compute how much water will be trapped on terrain after raining. To clarify further, the black boxes represents terrain and its height, and the blue boxes represents the water that could be trapped on the terrain.\n",
    "\n",
    "<center><img src=\"https://raw.githubusercontent.com/andrewfade/myprojects/main/image.png\" /></center>\n",
    "\n",
    "- User can enter as many numbers as they want to represent elevation of the terrain.\n",
    "\n",
    "- You can assume all the inputs are valid, thus you don't have to do an input check.\n",
    "\n",
    "- At the end of the program write a comment that indicates which computational thinking heuristics you have used and how you used them.\n",
    "\n",
    "- Example of user inputs and respective outputs.\n",
    "\n",
    "```text\n",
    "Inputs\n",
    "------------------------------\n",
    "Type 'ok' when you are done: 5\n",
    "Type 'ok' when you are done: 4\n",
    "Type 'ok' when you are done: 5\n",
    "Type 'ok' when you are done: ok\n",
    "\n",
    "Output\n",
    "------\n",
    "1\n",
    "\n",
    "Inputs\n",
    "------------------------------\n",
    "Type 'ok' when you are done: 2\n",
    "Type 'ok' when you are done: 1\n",
    "Type 'ok' when you are done: 2\n",
    "Type 'ok' when you are done: 3\n",
    "Type 'ok' when you are done: 2\n",
    "Type 'ok' when you are done: 3\n",
    "Type 'ok' when you are done: ok\n",
    "\n",
    "Output\n",
    "------\n",
    "2\n",
    "\n",
    "Inputs\n",
    "------------------------------\n",
    "Type 'ok' when you are done: 6\n",
    "Type 'ok' when you are done: 5\n",
    "Type 'ok' when you are done: 8\n",
    "Type 'ok' when you are done: 9\n",
    "Type 'ok' when you are done: 2\n",
    "Type 'ok' when you are done: 4\n",
    "Type 'ok' when you are done: 3\n",
    "Type 'ok' when you are done: 6\n",
    "Type 'ok' when you are done: ok\n",
    "\n",
    "Output\n",
    "------\n",
    "10\n",
    "```"
   ]
  },
  {
   "cell_type": "markdown",
   "metadata": {},
   "source": [
    "### Solution :"
   ]
  },
  {
   "cell_type": "code",
   "execution_count": 87,
   "metadata": {},
   "outputs": [
    {
     "ename": "SyntaxError",
     "evalue": "invalid syntax (3807421150.py, line 13)",
     "output_type": "error",
     "traceback": [
      "\u001b[0;36m  File \u001b[0;32m\"/tmp/ipykernel_4113/3807421150.py\"\u001b[0;36m, line \u001b[0;32m13\u001b[0m\n\u001b[0;31m    if number3 < number2 :\u001b[0m\n\u001b[0m                         ^\u001b[0m\n\u001b[0;31mSyntaxError\u001b[0m\u001b[0;31m:\u001b[0m invalid syntax\n"
     ]
    }
   ],
   "source": [
    "number1= int(input(\"lütfen sayı giriniz\"))\n",
    "number2 = int(input(\"lütfen ikinci sayı giriniz\"))\n",
    "number3 = int(input(\"lütfen ikinci sayı giriniz\"))\n",
    "number4 = int(input(\"lütfen ikinci sayı giriniz\"))\n",
    "number5 = int(input(\"lütfen ikinci sayı giriniz\"))\n",
    "number6 = int(input(\"lütfen ikinci sayı giriniz\"))\n",
    "\n",
    "\n",
    "if number1 < number2 :\n",
    "    print(number2- number1)\n",
    "    if number3 >= number2 :\n",
    "        print((number3-number2)\n",
    "        if number3 < number2 :\n",
    "            print(number2-number3)\n",
    "            if number4 >= number3 :\n",
    "                print(number4-number3)\n",
    "                if number4 < number3 :\n",
    "                    print(number3-number4)\n",
    "                    if number5 >= number4 :\n",
    "                        print(number5-number4)\n",
    "                        if number5 < number4:\n",
    "                            print(number4-number5)\n",
    "                            if number6 >= number5 :\n",
    "                                print(number6-number5)\n",
    "                                if number6 < number5 :\n",
    "                                    print(number5-number6)\n",
    "                            \n",
    "\n",
    "    \n",
    "else :\n",
    "    print(\"Lütfen sonucu artı olacak bir sayı giriniz!!!\")\n",
    "\n"
   ]
  },
  {
   "cell_type": "code",
   "execution_count": 34,
   "metadata": {},
   "outputs": [
    {
     "name": "stdout",
     "output_type": "stream",
     "text": [
      "[3, 6]\n",
      "The largest number is :  6\n"
     ]
    }
   ],
   "source": [
    "count=0\n",
    "array=[]\n",
    "size = int(input(\"How many numbers will you enter? \"))\n",
    "while count < size:\n",
    "    number= int(input('Please enter the number: '))\n",
    "    array.append(number)\n",
    "    count = count +1\n",
    "print(array)\n",
    "largest = array[0]\n",
    "for i in array:\n",
    "    if i > largest:\n",
    "        largest = i\n",
    "print(\"The largest number is : \", largest)\n",
    "\n"
   ]
  },
  {
   "cell_type": "code",
   "execution_count": 27,
   "metadata": {},
   "outputs": [
    {
     "name": "stdout",
     "output_type": "stream",
     "text": [
      "5\n"
     ]
    }
   ],
   "source": [
    "count = 0\n",
    "array = []\n",
    "size = int(input(\"how many number want to write?\"))\n",
    "while count < size:\n",
    "    number = int(input(\"plase enter your number :\"))\n",
    "    array.append(number)    \n",
    "    count = count + 1\n",
    "    array.sort()\n",
    "print(array[-1])\n",
    "    \n",
    "    "
   ]
  },
  {
   "cell_type": "code",
   "execution_count": null,
   "metadata": {},
   "outputs": [],
   "source": [
    "count = 0\n",
    "array = []\n",
    "size = int(input(\"how many number want to write?\"))\n",
    "while count < size:\n",
    "    number = int(input(\"plase enter your number :\"))\n",
    "    array.append(number)    \n",
    "    count = count + 1\n",
    "    array.sort()\n",
    "print(array[-1])"
   ]
  },
  {
   "cell_type": "code",
   "execution_count": 38,
   "metadata": {},
   "outputs": [
    {
     "name": "stdout",
     "output_type": "stream",
     "text": [
      "[3, 4]\n"
     ]
    }
   ],
   "source": [
    "\n",
    "\n",
    "\n",
    "n = int(input(\"Enter your number: \"))\n",
    "listem = []\n",
    "total_water = 0\n",
    "for i in range(0, n): \n",
    "  elmnt = int(input())\n",
    "  listem.append(elmnt)\n",
    "for j in range(1, len(listem)-1):\n",
    "      l = max(listem[:j])\n",
    "  r = max(listem[j+1:])\n",
    "  water = min(l, r) - listem[j]\n",
    "  if water >= 0:\n",
    "    total_water += water\n",
    "print(\"Total water is:\", total_water)"
   ]
  },
  {
   "cell_type": "code",
   "execution_count": 40,
   "metadata": {},
   "outputs": [
    {
     "name": "stdout",
     "output_type": "stream",
     "text": [
      "Your numbers is:  [585, 366, 248]\n",
      "The largest number is:  585\n"
     ]
    }
   ],
   "source": [
    "\n",
    "n = int(input(\"Give your number: \"))\n",
    "import random\n",
    "random_list = []\n",
    "for i in range(0, n):\n",
    "  number = random.randint(1,1000)\n",
    "  random_list.append(number)\n",
    "  random_list.sort(reverse=True)\n",
    "print(\"Your numbers is: \", random_list)\n",
    "print(\"The largest number is: \", random_list[0])"
   ]
  },
  {
   "cell_type": "code",
   "execution_count": null,
   "metadata": {},
   "outputs": [],
   "source": [
    "2. çözüm:\n",
    "count=0\n",
    "array=[]\n",
    "size = int(input(\"How many numbers will you enter? \"))\n",
    "while count < size:\n",
    "    number= int(input('Please enter the number: '))\n",
    "    array.append(number)\n",
    "    count = count +1\n",
    "print(array)\n",
    "largest = array[0]\n",
    "for i in array:\n",
    "    if i > largest:\n",
    "        largest = i\n",
    "print(\"The largest number is : \", largest)\n"
   ]
  },
  {
   "cell_type": "code",
   "execution_count": null,
   "metadata": {},
   "outputs": [],
   "source": [
    "\n",
    "words = [\"eat\", \"tea\", \"tan\", \"ate\", \"nat\", \"bat\"]\n",
    "words_new = {}\n",
    "for i in words:\n",
    "  anagram = str(sorted(i))\n",
    "  if anagram in words_new:\n",
    "    words_new[anagram].append(i)\n",
    "  else:\n",
    "    words_new[anagram] = [i]\n",
    "print(words_new.values())\n",
    "\n"
   ]
  },
  {
   "cell_type": "code",
   "execution_count": null,
   "metadata": {},
   "outputs": [],
   "source": [
    "3.Soru\n",
    "1.çözüm\n",
    "listem = [0, 1, 0, 2, 1, 0, 1, 3, 2, 1, 2, 1]\n",
    "total_water = 0 \n",
    "for i in range(1, len(listem)-1):\n",
    "  l = max(listem[:i])\n",
    "  r = max(listem[i+1:])\n",
    "  water = min(l, r) - listem[i]\n",
    "  if water >= 0:\n",
    "    total_water += water\n",
    "print(total_water)\n"
   ]
  }
 ],
 "metadata": {
  "interpreter": {
   "hash": "916dbcbb3f70747c44a77c7bcd40155683ae19c65e1c03b4aa3499c5328201f1"
  },
  "kernelspec": {
   "display_name": "Python 3.8.10 64-bit",
   "name": "python3"
  },
  "language_info": {
   "codemirror_mode": {
    "name": "ipython",
    "version": 3
   },
   "file_extension": ".py",
   "mimetype": "text/x-python",
   "name": "python",
   "nbconvert_exporter": "python",
   "pygments_lexer": "ipython3",
   "version": "3.8.10"
  }
 },
 "nbformat": 4,
 "nbformat_minor": 2
}
